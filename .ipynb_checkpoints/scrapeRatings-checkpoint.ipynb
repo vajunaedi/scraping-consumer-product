{
 "cells": [
  {
   "cell_type": "markdown",
   "metadata": {},
   "source": [
    "# Scrape Chinese Companies' Ratings\n",
    "from Shopee.com"
   ]
  },
  {
   "cell_type": "code",
   "execution_count": 6,
   "metadata": {
    "collapsed": true
   },
   "outputs": [],
   "source": [
    "# Import Libraries\n",
    "from bs4 import BeautifulSoup\n",
    "import string\n",
    "import pandas as pd\n",
    "from googletrans import Translator"
   ]
  },
  {
   "cell_type": "markdown",
   "metadata": {},
   "source": [
    "### Try Oppo's Page on Shopee\n",
    "<b>Categories:</b><br/>\n",
    "1. Response Rate (Persentase Chat Dibalas)<br/>\n",
    "2. Number of Products (Produk)<br/>\n",
    "3. Number of Followers (Pengikut)<br/>\n",
    "4. Rating (of Products) (Penilaian)<br/>"
   ]
  },
  {
   "cell_type": "code",
   "execution_count": 7,
   "metadata": {
    "collapsed": true
   },
   "outputs": [],
   "source": [
    "with open(\"shopee.html\") as fp:\n",
    "    shop_soup = BeautifulSoup(fp, 'lxml')"
   ]
  },
  {
   "cell_type": "code",
   "execution_count": 8,
   "metadata": {
    "collapsed": true
   },
   "outputs": [],
   "source": [
    "shop_att = shop_soup.find_all('div', class_='section-seller-overview__item')"
   ]
  },
  {
   "cell_type": "code",
   "execution_count": 9,
   "metadata": {},
   "outputs": [],
   "source": [
    "# Getting all attributes\n",
    "att = []\n",
    "value = []\n",
    "title = shop_soup.title.text\n",
    "\n",
    "for container in shop_att:\n",
    "    x = container.find('div', class_='section-seller-overview__item-text-name').text\n",
    "    att.append(x)\n",
    "    \n",
    "    y = container.find('div', class_='section-seller-overview__item-text-value').text\n",
    "    value.append(y)"
   ]
  },
  {
   "cell_type": "code",
   "execution_count": 10,
   "metadata": {
    "collapsed": true
   },
   "outputs": [],
   "source": [
    "# Att has some weird string attached to it. Replace.\n",
    "for i in range(len(att)):\n",
    "    att[i] = att[i].replace(':\\xa0', '')"
   ]
  },
  {
   "cell_type": "code",
   "execution_count": 11,
   "metadata": {},
   "outputs": [
    {
     "data": {
      "text/html": [
       "<div>\n",
       "<style>\n",
       "    .dataframe thead tr:only-child th {\n",
       "        text-align: right;\n",
       "    }\n",
       "\n",
       "    .dataframe thead th {\n",
       "        text-align: left;\n",
       "    }\n",
       "\n",
       "    .dataframe tbody tr th {\n",
       "        vertical-align: top;\n",
       "    }\n",
       "</style>\n",
       "<table border=\"1\" class=\"dataframe\">\n",
       "  <thead>\n",
       "    <tr style=\"text-align: right;\">\n",
       "      <th></th>\n",
       "      <th>Persentase Chat Dibalas</th>\n",
       "      <th>Waktu Chat Dibalas</th>\n",
       "      <th>bergabung</th>\n",
       "      <th>masa pengemasan</th>\n",
       "      <th>mengikuti</th>\n",
       "      <th>pengikut</th>\n",
       "      <th>penilaian</th>\n",
       "      <th>produk</th>\n",
       "      <th>shop name</th>\n",
       "    </tr>\n",
       "  </thead>\n",
       "  <tbody>\n",
       "    <tr>\n",
       "      <th>0</th>\n",
       "      <td>92%</td>\n",
       "      <td>hitungan jam</td>\n",
       "      <td>15 bulan lalu</td>\n",
       "      <td>2-3 hari</td>\n",
       "      <td>2</td>\n",
       "      <td>56297</td>\n",
       "      <td>4.8 dari 5 (1145 penilaian)</td>\n",
       "      <td>19</td>\n",
       "      <td>Toko Online OPPO Indonesia Official Store | Sh...</td>\n",
       "    </tr>\n",
       "  </tbody>\n",
       "</table>\n",
       "</div>"
      ],
      "text/plain": [
       "  Persentase Chat Dibalas Waktu Chat Dibalas      bergabung masa pengemasan  \\\n",
       "0                     92%       hitungan jam  15 bulan lalu        2-3 hari   \n",
       "\n",
       "  mengikuti pengikut                    penilaian produk  \\\n",
       "0         2    56297  4.8 dari 5 (1145 penilaian)     19   \n",
       "\n",
       "                                           shop name  \n",
       "0  Toko Online OPPO Indonesia Official Store | Sh...  "
      ]
     },
     "execution_count": 11,
     "metadata": {},
     "output_type": "execute_result"
    }
   ],
   "source": [
    "# Convert to dataframe\n",
    "shop_df = pd.DataFrame({'shop name': title,\n",
    "                        att[0]: value[0],\n",
    "                        att[1]: value[1],\n",
    "                        att[2]: value[2],\n",
    "                        att[3]: value[3],\n",
    "                        att[4]: value[4],\n",
    "                        att[5]: value[5],\n",
    "                        att[6]: value[6],\n",
    "                        att[7]: value[7]}, index=[0])\n",
    "shop_df"
   ]
  },
  {
   "cell_type": "code",
   "execution_count": 12,
   "metadata": {},
   "outputs": [
    {
     "name": "stdout",
     "output_type": "stream",
     "text": [
      "Maced Chat Percentage : 92%\n",
      "product : 19\n",
      "follow : 2\n",
      "Chat Time Replied : hours count\n",
      "join : 15 months ago\n",
      "followers : 56297\n",
      "assessment : 4.8 out of 5 (1145 ratings)\n",
      "packaging time : 2-3 days\n"
     ]
    }
   ],
   "source": [
    "# Translate to english\n",
    "ts = Translator()\n",
    "\n",
    "for i in range(len(att)):\n",
    "    print(ts.translate(att[i]).text, \":\", ts.translate(value[i]).text)"
   ]
  },
  {
   "cell_type": "markdown",
   "metadata": {},
   "source": [
    "### Generalizing to other company profiles\n",
    "Find other Chinese companies in Shopee!"
   ]
  },
  {
   "cell_type": "code",
   "execution_count": 13,
   "metadata": {
    "collapsed": true
   },
   "outputs": [],
   "source": [
    "def open_html(html_file):\n",
    "    with open(html_file) as fp:\n",
    "        soup = BeautifulSoup(fp, 'lxml')\n",
    "    \n",
    "    return soup\n",
    "\n",
    "vivo_shop = open_html(\"vivo_shopee.html\")"
   ]
  },
  {
   "cell_type": "code",
   "execution_count": 14,
   "metadata": {
    "collapsed": true
   },
   "outputs": [],
   "source": [
    "def shop_attributes(shop_soup):\n",
    "    shop_att = shop_soup.find_all('div', class_='section-seller-overview__item')\n",
    "    att = []\n",
    "    value = []\n",
    "    title = shop_soup.title.text\n",
    "\n",
    "    for container in shop_att:\n",
    "        x = container.find('div', class_='section-seller-overview__item-text-name').text\n",
    "        att.append(x)\n",
    "\n",
    "        y = container.find('div', class_='section-seller-overview__item-text-value').text\n",
    "        value.append(y)\n",
    "    \n",
    "    for i in range(len(att)):\n",
    "        att[i] = att[i].replace(':\\xa0', '')\n",
    "    \n",
    "    shop_df = pd.DataFrame({'shop name': title,\n",
    "                        att[0]: value[0],\n",
    "                        att[1]: value[1],\n",
    "                        att[2]: value[2],\n",
    "                        att[3]: value[3],\n",
    "                        att[4]: value[4],\n",
    "                        att[5]: value[5],\n",
    "                        att[6]: value[6]}, index=[0])\n",
    "\n",
    "    return shop_df"
   ]
  },
  {
   "cell_type": "code",
   "execution_count": 15,
   "metadata": {
    "collapsed": true
   },
   "outputs": [],
   "source": [
    "vivo_df = shop_attributes(vivo_shop)"
   ]
  },
  {
   "cell_type": "code",
   "execution_count": 16,
   "metadata": {},
   "outputs": [
    {
     "data": {
      "text/html": [
       "<div>\n",
       "<style>\n",
       "    .dataframe thead tr:only-child th {\n",
       "        text-align: right;\n",
       "    }\n",
       "\n",
       "    .dataframe thead th {\n",
       "        text-align: left;\n",
       "    }\n",
       "\n",
       "    .dataframe tbody tr th {\n",
       "        vertical-align: top;\n",
       "    }\n",
       "</style>\n",
       "<table border=\"1\" class=\"dataframe\">\n",
       "  <thead>\n",
       "    <tr style=\"text-align: right;\">\n",
       "      <th></th>\n",
       "      <th>Persentase Chat Dibalas</th>\n",
       "      <th>Waktu Chat Dibalas</th>\n",
       "      <th>bergabung</th>\n",
       "      <th>masa pengemasan</th>\n",
       "      <th>mengikuti</th>\n",
       "      <th>pengikut</th>\n",
       "      <th>penilaian</th>\n",
       "      <th>produk</th>\n",
       "      <th>shop name</th>\n",
       "    </tr>\n",
       "  </thead>\n",
       "  <tbody>\n",
       "    <tr>\n",
       "      <th>0</th>\n",
       "      <td>92%</td>\n",
       "      <td>hitungan jam</td>\n",
       "      <td>15 bulan lalu</td>\n",
       "      <td>2-3 hari</td>\n",
       "      <td>2</td>\n",
       "      <td>56297</td>\n",
       "      <td>4.8 dari 5 (1145 penilaian)</td>\n",
       "      <td>19</td>\n",
       "      <td>Toko Online OPPO Indonesia Official Store | Sh...</td>\n",
       "    </tr>\n",
       "    <tr>\n",
       "      <th>1</th>\n",
       "      <td>65%</td>\n",
       "      <td>hitungan hari</td>\n",
       "      <td>6 bulan lalu</td>\n",
       "      <td>NaN</td>\n",
       "      <td>6</td>\n",
       "      <td>20680</td>\n",
       "      <td>4.4 dari 5 (576 penilaian)</td>\n",
       "      <td>9</td>\n",
       "      <td>Toko Online Vivo Mobile Official Store | Shope...</td>\n",
       "    </tr>\n",
       "  </tbody>\n",
       "</table>\n",
       "</div>"
      ],
      "text/plain": [
       "  Persentase Chat Dibalas Waktu Chat Dibalas      bergabung masa pengemasan  \\\n",
       "0                     92%       hitungan jam  15 bulan lalu        2-3 hari   \n",
       "1                     65%      hitungan hari   6 bulan lalu             NaN   \n",
       "\n",
       "  mengikuti pengikut                    penilaian produk  \\\n",
       "0         2    56297  4.8 dari 5 (1145 penilaian)     19   \n",
       "1         6    20680   4.4 dari 5 (576 penilaian)      9   \n",
       "\n",
       "                                           shop name  \n",
       "0  Toko Online OPPO Indonesia Official Store | Sh...  \n",
       "1  Toko Online Vivo Mobile Official Store | Shope...  "
      ]
     },
     "execution_count": 16,
     "metadata": {},
     "output_type": "execute_result"
    }
   ],
   "source": [
    "combine = pd.concat([shop_df, vivo_df], ignore_index = True)\n",
    "combine"
   ]
  },
  {
   "cell_type": "markdown",
   "metadata": {},
   "source": [
    "### Updating company lists\n",
    "1. Oppo\n",
    "2. Vivo\n",
    "3. Xiaomi\n",
    "4. TCL (The Creative Life)"
   ]
  },
  {
   "cell_type": "code",
   "execution_count": 17,
   "metadata": {
    "collapsed": true
   },
   "outputs": [],
   "source": [
    "# Try read filename names\n",
    "\n",
    "# html_list.txt contains the name of html files stored (Currently, OPPO, VIVO, and Xiaomi)\n",
    "with open(\"html_list.txt\", encoding=\"utf8\") as f:\n",
    "    data = f.readlines()\n",
    "\n",
    "soup = []\n",
    "\n",
    "for i in range(len(data)):\n",
    "    data[i] = data[i].replace('\\n', '')\n",
    "    soup.append(open_html(data[i]))"
   ]
  },
  {
   "cell_type": "code",
   "execution_count": 18,
   "metadata": {
    "collapsed": true
   },
   "outputs": [],
   "source": [
    "# Create dataframe according to the files\n",
    "shops_df = shop_attributes(soup[0])\n",
    "\n",
    "for i in range(len(soup)):\n",
    "    if i != 0:\n",
    "        shops_df = shops_df.append(shop_attributes(soup[i]), ignore_index = True)\n",
    "        "
   ]
  },
  {
   "cell_type": "code",
   "execution_count": 19,
   "metadata": {
    "scrolled": true
   },
   "outputs": [
    {
     "data": {
      "text/html": [
       "<div>\n",
       "<style>\n",
       "    .dataframe thead tr:only-child th {\n",
       "        text-align: right;\n",
       "    }\n",
       "\n",
       "    .dataframe thead th {\n",
       "        text-align: left;\n",
       "    }\n",
       "\n",
       "    .dataframe tbody tr th {\n",
       "        vertical-align: top;\n",
       "    }\n",
       "</style>\n",
       "<table border=\"1\" class=\"dataframe\">\n",
       "  <thead>\n",
       "    <tr style=\"text-align: right;\">\n",
       "      <th></th>\n",
       "      <th>Persentase Chat Dibalas</th>\n",
       "      <th>Waktu Chat Dibalas</th>\n",
       "      <th>bergabung</th>\n",
       "      <th>mengikuti</th>\n",
       "      <th>pengikut</th>\n",
       "      <th>penilaian</th>\n",
       "      <th>produk</th>\n",
       "      <th>shop name</th>\n",
       "    </tr>\n",
       "  </thead>\n",
       "  <tbody>\n",
       "    <tr>\n",
       "      <th>0</th>\n",
       "      <td>92%</td>\n",
       "      <td>hitungan jam</td>\n",
       "      <td>15 bulan lalu</td>\n",
       "      <td>2</td>\n",
       "      <td>56297</td>\n",
       "      <td>4.8 dari 5 (1145 penilaian)</td>\n",
       "      <td>19</td>\n",
       "      <td>Toko Online OPPO Indonesia Official Store | Sh...</td>\n",
       "    </tr>\n",
       "    <tr>\n",
       "      <th>1</th>\n",
       "      <td>65%</td>\n",
       "      <td>hitungan hari</td>\n",
       "      <td>6 bulan lalu</td>\n",
       "      <td>6</td>\n",
       "      <td>20680</td>\n",
       "      <td>4.4 dari 5 (576 penilaian)</td>\n",
       "      <td>9</td>\n",
       "      <td>Toko Online Vivo Mobile Official Store | Shope...</td>\n",
       "    </tr>\n",
       "    <tr>\n",
       "      <th>2</th>\n",
       "      <td>93%</td>\n",
       "      <td>hitungan jam</td>\n",
       "      <td>43 hari lalu</td>\n",
       "      <td>1</td>\n",
       "      <td>69668</td>\n",
       "      <td>4.8 dari 5 (8635 penilaian)</td>\n",
       "      <td>52</td>\n",
       "      <td>Toko Online Xiaomi Official Store | Shopee Ind...</td>\n",
       "    </tr>\n",
       "    <tr>\n",
       "      <th>3</th>\n",
       "      <td>19%</td>\n",
       "      <td>hitungan jam</td>\n",
       "      <td>6 bulan lalu</td>\n",
       "      <td>1</td>\n",
       "      <td>867</td>\n",
       "      <td>0 penilaian</td>\n",
       "      <td>11</td>\n",
       "      <td>Toko Online TCL Official Shop | Shopee Indonesia</td>\n",
       "    </tr>\n",
       "    <tr>\n",
       "      <th>4</th>\n",
       "      <td>57%</td>\n",
       "      <td>hitungan jam</td>\n",
       "      <td>9 bulan lalu</td>\n",
       "      <td>1</td>\n",
       "      <td>6529</td>\n",
       "      <td>4.5 dari 5 (46 penilaian)</td>\n",
       "      <td>21</td>\n",
       "      <td>Toko Online Lenovo Official Shop | Shopee Indo...</td>\n",
       "    </tr>\n",
       "    <tr>\n",
       "      <th>5</th>\n",
       "      <td>27%</td>\n",
       "      <td>hitungan jam</td>\n",
       "      <td>9 bulan lalu</td>\n",
       "      <td>1</td>\n",
       "      <td>2130</td>\n",
       "      <td>4.0 dari 5 (136 penilaian)</td>\n",
       "      <td>6</td>\n",
       "      <td>Toko Online Huawei Mobile Broadband Official S...</td>\n",
       "    </tr>\n",
       "  </tbody>\n",
       "</table>\n",
       "</div>"
      ],
      "text/plain": [
       "  Persentase Chat Dibalas Waktu Chat Dibalas      bergabung mengikuti  \\\n",
       "0                     92%       hitungan jam  15 bulan lalu         2   \n",
       "1                     65%      hitungan hari   6 bulan lalu         6   \n",
       "2                     93%       hitungan jam   43 hari lalu         1   \n",
       "3                     19%       hitungan jam   6 bulan lalu         1   \n",
       "4                     57%       hitungan jam   9 bulan lalu         1   \n",
       "5                     27%       hitungan jam   9 bulan lalu         1   \n",
       "\n",
       "  pengikut                    penilaian produk  \\\n",
       "0    56297  4.8 dari 5 (1145 penilaian)     19   \n",
       "1    20680   4.4 dari 5 (576 penilaian)      9   \n",
       "2    69668  4.8 dari 5 (8635 penilaian)     52   \n",
       "3      867                  0 penilaian     11   \n",
       "4     6529    4.5 dari 5 (46 penilaian)     21   \n",
       "5     2130   4.0 dari 5 (136 penilaian)      6   \n",
       "\n",
       "                                           shop name  \n",
       "0  Toko Online OPPO Indonesia Official Store | Sh...  \n",
       "1  Toko Online Vivo Mobile Official Store | Shope...  \n",
       "2  Toko Online Xiaomi Official Store | Shopee Ind...  \n",
       "3   Toko Online TCL Official Shop | Shopee Indonesia  \n",
       "4  Toko Online Lenovo Official Shop | Shopee Indo...  \n",
       "5  Toko Online Huawei Mobile Broadband Official S...  "
      ]
     },
     "execution_count": 19,
     "metadata": {},
     "output_type": "execute_result"
    }
   ],
   "source": [
    "shops_df"
   ]
  },
  {
   "cell_type": "code",
   "execution_count": 21,
   "metadata": {},
   "outputs": [],
   "source": [
    "# # Export to Excel\n",
    "# writer = pd.ExcelWriter('CN_in_IDN_consumer_products.xlsx')\n",
    "# shops_df.to_excel(writer,sheet_name='Sheet1')\n",
    "# writer.save()"
   ]
  }
 ],
 "metadata": {
  "kernelspec": {
   "display_name": "Python 3",
   "language": "python",
   "name": "python3"
  },
  "language_info": {
   "codemirror_mode": {
    "name": "ipython",
    "version": 3
   },
   "file_extension": ".py",
   "mimetype": "text/x-python",
   "name": "python",
   "nbconvert_exporter": "python",
   "pygments_lexer": "ipython3",
   "version": "3.5.3"
  }
 },
 "nbformat": 4,
 "nbformat_minor": 2
}
